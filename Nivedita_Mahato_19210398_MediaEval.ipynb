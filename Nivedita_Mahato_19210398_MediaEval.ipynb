{
  "nbformat": 4,
  "nbformat_minor": 0,
  "metadata": {
    "colab": {
      "name": "machinelearning.ipynb",
      "provenance": [],
      "collapsed_sections": []
    },
    "kernelspec": {
      "name": "python3",
      "display_name": "Python 3"
    }
  },
  "cells": [
    {
      "cell_type": "markdown",
      "metadata": {
        "id": "25HHzGemXvZX",
        "colab_type": "text"
      },
      "source": [
        "# **Predicting Media Memorability**\n",
        "# This notebook is organized as follows:\n",
        "\n",
        "\n",
        "1. **Definitions the Functions**\n",
        "\n",
        "2. **Loading the Functions**\n",
        "\n",
        "3. **Data Preprocessing for Captions**\n",
        "\n",
        "4. **Applying Different Machine Learning Models**\n",
        "\n",
        "5. **Selecting the best model for final model**\n",
        "\n",
        "6. **Training Full Dev-Set**\n",
        "\n",
        "7. **Predicting the Final Result** \n",
        "\n",
        "\n",
        "\n",
        "\n",
        "\n",
        "\n",
        "\n",
        "\n",
        "\n"
      ]
    },
    {
      "cell_type": "code",
      "metadata": {
        "id": "WiHqTNQTzjVd",
        "colab_type": "code",
        "outputId": "857c7d33-28f2-4acc-b5f9-10b8aa564a9f",
        "colab": {
          "base_uri": "https://localhost:8080/",
          "height": 33
        }
      },
      "source": [
        "pip install pyprind"
      ],
      "execution_count": 190,
      "outputs": [
        {
          "output_type": "stream",
          "text": [
            "Requirement already satisfied: pyprind in /usr/local/lib/python3.6/dist-packages (2.11.2)\n"
          ],
          "name": "stdout"
        }
      ]
    },
    {
      "cell_type": "code",
      "metadata": {
        "id": "xRxTzskp0FLo",
        "colab_type": "code",
        "colab": {}
      },
      "source": [
        "import pandas as pd\n",
        "import numpy as np\n",
        "from string import punctuation\n",
        "import pyprind\n",
        "from collections import Counter\n",
        "from sklearn.model_selection import train_test_split\n",
        "import matplotlib.pyplot as plt\n",
        "import os\n",
        "import glob\n",
        "import nltk"
      ],
      "execution_count": 0,
      "outputs": []
    },
    {
      "cell_type": "markdown",
      "metadata": {
        "id": "ZIfBHp9sN1Jv",
        "colab_type": "text"
      },
      "source": [
        "# **1. Defining the Functions**"
      ]
    },
    {
      "cell_type": "code",
      "metadata": {
        "id": "LAwloiqW0Ivd",
        "colab_type": "code",
        "colab": {}
      },
      "source": [
        "#Function to load C3D features\n",
        "def load_c3d(captions, c3dPath):\n",
        "    files = list(captions[\"video\"].values)\n",
        "    c3dfeatures = []\n",
        "    for file in files:\n",
        "        file = c3dPath+file[:-4]+'txt'\n",
        "        c3dfeatures.append(np.loadtxt(file))\n",
        "    #print(type(c3dfeatures))\n",
        "    return c3dfeatures"
      ],
      "execution_count": 0,
      "outputs": []
    },
    {
      "cell_type": "code",
      "metadata": {
        "id": "sTZgj0yP0OuC",
        "colab_type": "code",
        "colab": {}
      },
      "source": [
        "#Function to load the captions into dataframes\n",
        "def load_captions(filename):\n",
        "    video_name = []\n",
        "    captions = []\n",
        "    dataframe = pd.DataFrame()\n",
        "    with open(filename) as file:\n",
        "        for line in file:\n",
        "            pair = line.split() #each line in the text file contains to words so, this code will split them into two words\n",
        "            video_name.append(pair[0]) #first word will be assigned as video name\n",
        "            captions.append(pair[1]) #second word will be assigned as caption\n",
        "        dataframe['video']=video_name #setting these two as column names of dataframe\n",
        "        dataframe['caption']=captions\n",
        "    return dataframe"
      ],
      "execution_count": 0,
      "outputs": []
    },
    {
      "cell_type": "code",
      "metadata": {
        "id": "MBVGUjWt0OxW",
        "colab_type": "code",
        "colab": {}
      },
      "source": [
        "#Function to calculate Spearman coefficient scores\n",
        "def Get_score(Y_pred,Y_true):\n",
        "    '''Calculate the Spearmann\"s correlation coefficient'''\n",
        "    Y_pred = np.squeeze(Y_pred)\n",
        "    Y_true = np.squeeze(Y_true)\n",
        "    if Y_pred.shape != Y_true.shape:\n",
        "        print('Input shapes don\\'t match!')\n",
        "    else:\n",
        "        if len(Y_pred.shape) == 1:\n",
        "            Res = pd.DataFrame({'Y_true':Y_true,'Y_pred':Y_pred})\n",
        "            score_mat = Res[['Y_true','Y_pred']].corr(method='spearman',min_periods=1)\n",
        "            print('The Spearman\\'s correlation coefficient is: %.3f' % score_mat.iloc[1][0])\n",
        "        else:\n",
        "            for ii in range(Y_pred.shape[1]):\n",
        "                Get_score(Y_pred[:,ii],Y_true[:,ii])"
      ],
      "execution_count": 0,
      "outputs": []
    },
    {
      "cell_type": "markdown",
      "metadata": {
        "id": "rUI1tdgy1LXi",
        "colab_type": "text"
      },
      "source": [
        "## **2. Loading Feature**\n",
        "\n",
        "1.   **Loading C3D Features.**\n",
        "2.   **Loading Captions.**\n",
        "3.   **Loading Ground Truth.**\n",
        "4.   **Loading Asthetics Features.**\n",
        " \n",
        "\n",
        "\n",
        "\n",
        "\n",
        "\n",
        "\n"
      ]
    },
    {
      "cell_type": "code",
      "metadata": {
        "id": "0zotF3GP0ukc",
        "colab_type": "code",
        "outputId": "50e56ee7-4fb5-4577-8ed4-a04b7aad9379",
        "colab": {
          "base_uri": "https://localhost:8080/",
          "height": 33
        }
      },
      "source": [
        "from google.colab import drive\n",
        "import os\n",
        "drive.mount('/content/gdrive/')\n",
        "os.chdir('/content/gdrive/My Drive/CA684_Assignment/')"
      ],
      "execution_count": 195,
      "outputs": [
        {
          "output_type": "stream",
          "text": [
            "Drive already mounted at /content/gdrive/; to attempt to forcibly remount, call drive.mount(\"/content/gdrive/\", force_remount=True).\n"
          ],
          "name": "stdout"
        }
      ]
    },
    {
      "cell_type": "code",
      "metadata": {
        "id": "J7fr6H9N08uS",
        "colab_type": "code",
        "colab": {}
      },
      "source": [
        "#load the ground truth dataset\n",
        "csv_path ='./Dev-set/Ground-truth/ground-truth.csv'\n",
        "dataset = pd.read_csv(csv_path)\n",
        "\n",
        "#load captions\n",
        "captions_path ='./Dev-set/Captions/dev-set_video-captions.txt'\n",
        "captions = load_captions(captions_path)\n"
      ],
      "execution_count": 0,
      "outputs": []
    },
    {
      "cell_type": "code",
      "metadata": {
        "id": "IK1SgAKC0jT9",
        "colab_type": "code",
        "colab": {}
      },
      "source": [
        "#load C3D features\n",
        "c3dPath = './Dev-set/C3D/'\n",
        "c3dfeatures = load_c3d(captions,c3dPath)"
      ],
      "execution_count": 0,
      "outputs": []
    },
    {
      "cell_type": "code",
      "metadata": {
        "id": "Xih108P91b1V",
        "colab_type": "code",
        "outputId": "1ba2a007-a0ee-42ba-9e09-1cb9677fd4b7",
        "colab": {
          "base_uri": "https://localhost:8080/",
          "height": 191
        }
      },
      "source": [
        "captions.head()"
      ],
      "execution_count": 198,
      "outputs": [
        {
          "output_type": "execute_result",
          "data": {
            "text/html": [
              "<div>\n",
              "<style scoped>\n",
              "    .dataframe tbody tr th:only-of-type {\n",
              "        vertical-align: middle;\n",
              "    }\n",
              "\n",
              "    .dataframe tbody tr th {\n",
              "        vertical-align: top;\n",
              "    }\n",
              "\n",
              "    .dataframe thead th {\n",
              "        text-align: right;\n",
              "    }\n",
              "</style>\n",
              "<table border=\"1\" class=\"dataframe\">\n",
              "  <thead>\n",
              "    <tr style=\"text-align: right;\">\n",
              "      <th></th>\n",
              "      <th>video</th>\n",
              "      <th>caption</th>\n",
              "    </tr>\n",
              "  </thead>\n",
              "  <tbody>\n",
              "    <tr>\n",
              "      <th>0</th>\n",
              "      <td>video3.webm</td>\n",
              "      <td>blonde-woman-is-massaged-tilt-down</td>\n",
              "    </tr>\n",
              "    <tr>\n",
              "      <th>1</th>\n",
              "      <td>video4.webm</td>\n",
              "      <td>roulette-table-spinning-with-ball-in-closeup-shot</td>\n",
              "    </tr>\n",
              "    <tr>\n",
              "      <th>2</th>\n",
              "      <td>video6.webm</td>\n",
              "      <td>khr-gangsters</td>\n",
              "    </tr>\n",
              "    <tr>\n",
              "      <th>3</th>\n",
              "      <td>video8.webm</td>\n",
              "      <td>medical-helicopter-hovers-at-airport</td>\n",
              "    </tr>\n",
              "    <tr>\n",
              "      <th>4</th>\n",
              "      <td>video10.webm</td>\n",
              "      <td>couple-relaxing-on-picnic-crane-shot</td>\n",
              "    </tr>\n",
              "  </tbody>\n",
              "</table>\n",
              "</div>"
            ],
            "text/plain": [
              "          video                                            caption\n",
              "0   video3.webm                 blonde-woman-is-massaged-tilt-down\n",
              "1   video4.webm  roulette-table-spinning-with-ball-in-closeup-shot\n",
              "2   video6.webm                                      khr-gangsters\n",
              "3   video8.webm               medical-helicopter-hovers-at-airport\n",
              "4  video10.webm               couple-relaxing-on-picnic-crane-shot"
            ]
          },
          "metadata": {
            "tags": []
          },
          "execution_count": 198
        }
      ]
    },
    {
      "cell_type": "code",
      "metadata": {
        "id": "7dQDEAZi1sUG",
        "colab_type": "code",
        "outputId": "2ada1950-24f6-4d37-9266-c68c2198f3c7",
        "colab": {
          "base_uri": "https://localhost:8080/",
          "height": 191
        }
      },
      "source": [
        "dataset.head()"
      ],
      "execution_count": 199,
      "outputs": [
        {
          "output_type": "execute_result",
          "data": {
            "text/html": [
              "<div>\n",
              "<style scoped>\n",
              "    .dataframe tbody tr th:only-of-type {\n",
              "        vertical-align: middle;\n",
              "    }\n",
              "\n",
              "    .dataframe tbody tr th {\n",
              "        vertical-align: top;\n",
              "    }\n",
              "\n",
              "    .dataframe thead th {\n",
              "        text-align: right;\n",
              "    }\n",
              "</style>\n",
              "<table border=\"1\" class=\"dataframe\">\n",
              "  <thead>\n",
              "    <tr style=\"text-align: right;\">\n",
              "      <th></th>\n",
              "      <th>video</th>\n",
              "      <th>short-term_memorability</th>\n",
              "      <th>nb_short-term_annotations</th>\n",
              "      <th>long-term_memorability</th>\n",
              "      <th>nb_long-term_annotations</th>\n",
              "    </tr>\n",
              "  </thead>\n",
              "  <tbody>\n",
              "    <tr>\n",
              "      <th>0</th>\n",
              "      <td>video3.webm</td>\n",
              "      <td>0.924</td>\n",
              "      <td>34</td>\n",
              "      <td>0.846</td>\n",
              "      <td>13</td>\n",
              "    </tr>\n",
              "    <tr>\n",
              "      <th>1</th>\n",
              "      <td>video4.webm</td>\n",
              "      <td>0.923</td>\n",
              "      <td>33</td>\n",
              "      <td>0.667</td>\n",
              "      <td>12</td>\n",
              "    </tr>\n",
              "    <tr>\n",
              "      <th>2</th>\n",
              "      <td>video6.webm</td>\n",
              "      <td>0.863</td>\n",
              "      <td>33</td>\n",
              "      <td>0.700</td>\n",
              "      <td>10</td>\n",
              "    </tr>\n",
              "    <tr>\n",
              "      <th>3</th>\n",
              "      <td>video8.webm</td>\n",
              "      <td>0.922</td>\n",
              "      <td>33</td>\n",
              "      <td>0.818</td>\n",
              "      <td>11</td>\n",
              "    </tr>\n",
              "    <tr>\n",
              "      <th>4</th>\n",
              "      <td>video10.webm</td>\n",
              "      <td>0.950</td>\n",
              "      <td>34</td>\n",
              "      <td>0.900</td>\n",
              "      <td>10</td>\n",
              "    </tr>\n",
              "  </tbody>\n",
              "</table>\n",
              "</div>"
            ],
            "text/plain": [
              "          video  ...  nb_long-term_annotations\n",
              "0   video3.webm  ...                        13\n",
              "1   video4.webm  ...                        12\n",
              "2   video6.webm  ...                        10\n",
              "3   video8.webm  ...                        11\n",
              "4  video10.webm  ...                        10\n",
              "\n",
              "[5 rows x 5 columns]"
            ]
          },
          "metadata": {
            "tags": []
          },
          "execution_count": 199
        }
      ]
    },
    {
      "cell_type": "markdown",
      "metadata": {
        "id": "N4yJXwsfkkJY",
        "colab_type": "text"
      },
      "source": [
        "**Loading Asthetic Features**\n"
      ]
    },
    {
      "cell_type": "code",
      "metadata": {
        "id": "KEezkAnwkf-M",
        "colab_type": "code",
        "colab": {}
      },
      "source": [
        "#function to read aesthetic feature\n",
        "def aes_fea_read(df, filename):\n",
        " df1 = pd.read_csv(filename, header=None)\n",
        " df1['video'] = filename[filename.find('video'):filename.find('.txt')] + '.webm'\n",
        " df = df.append(df1, ignore_index=True)\n",
        " return df"
      ],
      "execution_count": 0,
      "outputs": []
    },
    {
      "cell_type": "code",
      "metadata": {
        "id": "zorRSpmakypG",
        "colab_type": "code",
        "colab": {}
      },
      "source": [
        "def reading_file_names(path):\n",
        " files = []\n",
        " file_number=0\n",
        " # r=root, d=directories, f = files\n",
        " for r, d, f in os.walk(path):\n",
        "     for file in f:\n",
        "         if '.txt' in file:\n",
        "             files.append(os.path.join(r, file))\n",
        "             file_number = file_number + 1\n",
        " print(\"total files read = \" + str(file_number))\n",
        " return files"
      ],
      "execution_count": 0,
      "outputs": []
    },
    {
      "cell_type": "code",
      "metadata": {
        "id": "_vF_hz8Hkyye",
        "colab_type": "code",
        "outputId": "a0b795ca-4c11-4530-af9b-0f37fc357c0a",
        "colab": {
          "base_uri": "https://localhost:8080/",
          "height": 33
        }
      },
      "source": [
        "\n",
        "#read aesthetic feature train data\n",
        "path='/content/gdrive/My Drive/aesthetic_visual_features/aesthetic_feat_dev-set_mean' #(need to chnage the path as per the directory the C3D or any other files are stored in)\n",
        "files = reading_file_names(path)\n",
        "dataframe_aes = pd.DataFrame()\n",
        "for filename in files:\n",
        "   dataframe_aes = aes_fea_read(dataframe_aes, filename)"
      ],
      "execution_count": 202,
      "outputs": [
        {
          "output_type": "stream",
          "text": [
            "total files read = 6000\n"
          ],
          "name": "stdout"
        }
      ]
    },
    {
      "cell_type": "code",
      "metadata": {
        "id": "nvQtBmqmUVZF",
        "colab_type": "code",
        "outputId": "6e7a2d81-bd72-44b6-d578-c5a0e6ab6207",
        "colab": {
          "base_uri": "https://localhost:8080/",
          "height": 82
        }
      },
      "source": [
        "#shape of the dataframes\n",
        "print(f'Ground Truth : {dataset.shape}')\n",
        "print(f'Dev Captions : {captions.shape}')\n",
        "print(f'C3D          : ({len(c3dfeatures)})')\n",
        "print(f'Asthetic features : ({ len(dataframe_aes)})')\n"
      ],
      "execution_count": 203,
      "outputs": [
        {
          "output_type": "stream",
          "text": [
            "Ground Truth : (6000, 5)\n",
            "Dev Captions : (6000, 2)\n",
            "C3D          : (6000)\n",
            "Asthetic features : (6000)\n"
          ],
          "name": "stdout"
        }
      ]
    },
    {
      "cell_type": "markdown",
      "metadata": {
        "id": "LL9pL45F25AB",
        "colab_type": "text"
      },
      "source": [
        "## **3. Data Processing for Captions**"
      ]
    },
    {
      "cell_type": "code",
      "metadata": {
        "id": "SUuAEH2_UVp2",
        "colab_type": "code",
        "outputId": "b87ac51b-810d-4138-85a1-4aa5384e2d2e",
        "colab": {
          "base_uri": "https://localhost:8080/",
          "height": 66
        }
      },
      "source": [
        "import nltk\n",
        "nltk.download('stopwords')"
      ],
      "execution_count": 204,
      "outputs": [
        {
          "output_type": "stream",
          "text": [
            "[nltk_data] Downloading package stopwords to /root/nltk_data...\n",
            "[nltk_data]   Package stopwords is already up-to-date!\n"
          ],
          "name": "stdout"
        },
        {
          "output_type": "execute_result",
          "data": {
            "text/plain": [
              "True"
            ]
          },
          "metadata": {
            "tags": []
          },
          "execution_count": 204
        }
      ]
    },
    {
      "cell_type": "code",
      "metadata": {
        "id": "ElLqnOvBUVtK",
        "colab_type": "code",
        "outputId": "cc49d696-cff1-4555-fe1e-e7f70c8dd7df",
        "colab": {
          "base_uri": "https://localhost:8080/",
          "height": 33
        }
      },
      "source": [
        "#loading the nltk stopwords of English\n",
        "stopwords = nltk.corpus.stopwords.words('english')\n",
        "print(f'Length of Stopwords: {len(stopwords)}')"
      ],
      "execution_count": 205,
      "outputs": [
        {
          "output_type": "stream",
          "text": [
            "Length of Stopwords: 179\n"
          ],
          "name": "stdout"
        }
      ]
    },
    {
      "cell_type": "code",
      "metadata": {
        "id": "_tIsJPC4duoB",
        "colab_type": "code",
        "outputId": "38221fd5-e4dc-49de-96bf-c7f85710406c",
        "colab": {
          "base_uri": "https://localhost:8080/",
          "height": 66
        }
      },
      "source": [
        "#Removing punctuations and stop words from captions\n",
        "# setup prograss tracker\n",
        "pbar = pyprind.ProgBar(len(captions['caption']), title='Counting word occurrences')\n",
        "for i, cap in enumerate(captions['caption']):\n",
        "    # replace punctuations with space\n",
        "    # convert words to lower case \n",
        "    text = ''.join([c if c not in punctuation else ' ' for c in cap]).lower()\n",
        "    #removing stopwords\n",
        "    rmv_stopwords= ' '.join([word for word in text.split() if word not in stopwords])\n",
        "    captions.loc[i,'caption'] = rmv_stopwords #updating the original captions \n",
        "    pbar.update()"
      ],
      "execution_count": 206,
      "outputs": [
        {
          "output_type": "stream",
          "text": [
            "Counting word occurrences\n",
            "0% [##############################] 100% | ETA: 00:00:00\n",
            "Total time elapsed: 00:00:01\n"
          ],
          "name": "stderr"
        }
      ]
    },
    {
      "cell_type": "code",
      "metadata": {
        "id": "3fHIEMRhdzGl",
        "colab_type": "code",
        "outputId": "0a7d3317-56cf-48ac-84a8-12a8609f5633",
        "colab": {
          "base_uri": "https://localhost:8080/",
          "height": 191
        }
      },
      "source": [
        "captions.head()"
      ],
      "execution_count": 207,
      "outputs": [
        {
          "output_type": "execute_result",
          "data": {
            "text/html": [
              "<div>\n",
              "<style scoped>\n",
              "    .dataframe tbody tr th:only-of-type {\n",
              "        vertical-align: middle;\n",
              "    }\n",
              "\n",
              "    .dataframe tbody tr th {\n",
              "        vertical-align: top;\n",
              "    }\n",
              "\n",
              "    .dataframe thead th {\n",
              "        text-align: right;\n",
              "    }\n",
              "</style>\n",
              "<table border=\"1\" class=\"dataframe\">\n",
              "  <thead>\n",
              "    <tr style=\"text-align: right;\">\n",
              "      <th></th>\n",
              "      <th>video</th>\n",
              "      <th>caption</th>\n",
              "    </tr>\n",
              "  </thead>\n",
              "  <tbody>\n",
              "    <tr>\n",
              "      <th>0</th>\n",
              "      <td>video3.webm</td>\n",
              "      <td>blonde woman massaged tilt</td>\n",
              "    </tr>\n",
              "    <tr>\n",
              "      <th>1</th>\n",
              "      <td>video4.webm</td>\n",
              "      <td>roulette table spinning ball closeup shot</td>\n",
              "    </tr>\n",
              "    <tr>\n",
              "      <th>2</th>\n",
              "      <td>video6.webm</td>\n",
              "      <td>khr gangsters</td>\n",
              "    </tr>\n",
              "    <tr>\n",
              "      <th>3</th>\n",
              "      <td>video8.webm</td>\n",
              "      <td>medical helicopter hovers airport</td>\n",
              "    </tr>\n",
              "    <tr>\n",
              "      <th>4</th>\n",
              "      <td>video10.webm</td>\n",
              "      <td>couple relaxing picnic crane shot</td>\n",
              "    </tr>\n",
              "  </tbody>\n",
              "</table>\n",
              "</div>"
            ],
            "text/plain": [
              "          video                                    caption\n",
              "0   video3.webm                 blonde woman massaged tilt\n",
              "1   video4.webm  roulette table spinning ball closeup shot\n",
              "2   video6.webm                              khr gangsters\n",
              "3   video8.webm          medical helicopter hovers airport\n",
              "4  video10.webm          couple relaxing picnic crane shot"
            ]
          },
          "metadata": {
            "tags": []
          },
          "execution_count": 207
        }
      ]
    },
    {
      "cell_type": "code",
      "metadata": {
        "id": "_612-q0jd4Sn",
        "colab_type": "code",
        "outputId": "2d82c9ee-cba7-4a84-bb92-a2bb80cb9511",
        "colab": {
          "base_uri": "https://localhost:8080/",
          "height": 33
        }
      },
      "source": [
        "#implementing bag of words for the combined captions\n",
        "from sklearn.feature_extraction.text import CountVectorizer\n",
        "vectorizer = CountVectorizer(analyzer = \"word\",max_features=3112) \n",
        "captions_bag = vectorizer.fit_transform(captions.caption).toarray()\n",
        "type(captions_bag)"
      ],
      "execution_count": 208,
      "outputs": [
        {
          "output_type": "execute_result",
          "data": {
            "text/plain": [
              "numpy.ndarray"
            ]
          },
          "metadata": {
            "tags": []
          },
          "execution_count": 208
        }
      ]
    },
    {
      "cell_type": "code",
      "metadata": {
        "id": "9_nT04ZTd4XT",
        "colab_type": "code",
        "outputId": "cbcf9ccf-6816-4741-c61e-eba8543acbfe",
        "colab": {
          "base_uri": "https://localhost:8080/",
          "height": 33
        }
      },
      "source": [
        "captions_bag.shape"
      ],
      "execution_count": 209,
      "outputs": [
        {
          "output_type": "execute_result",
          "data": {
            "text/plain": [
              "(6000, 3112)"
            ]
          },
          "metadata": {
            "tags": []
          },
          "execution_count": 209
        }
      ]
    },
    {
      "cell_type": "code",
      "metadata": {
        "id": "r4bHrUdUd4c1",
        "colab_type": "code",
        "colab": {}
      },
      "source": [
        "captions_c3d = (captions_bag.tolist())\n",
        "counter = 0\n",
        "for item in range(6000):\n",
        "    captions_c3d[counter] = np.append(captions_c3d[counter],c3dfeatures[counter],axis=0)\n",
        "    counter = counter+1"
      ],
      "execution_count": 0,
      "outputs": []
    },
    {
      "cell_type": "code",
      "metadata": {
        "id": "gNqo9tK8d4RE",
        "colab_type": "code",
        "outputId": "f1eb9142-39a8-423d-9f98-7a18c7ae9bd1",
        "colab": {
          "base_uri": "https://localhost:8080/",
          "height": 33
        }
      },
      "source": [
        "len(captions_c3d[0])"
      ],
      "execution_count": 211,
      "outputs": [
        {
          "output_type": "execute_result",
          "data": {
            "text/plain": [
              "3213"
            ]
          },
          "metadata": {
            "tags": []
          },
          "execution_count": 211
        }
      ]
    },
    {
      "cell_type": "code",
      "metadata": {
        "id": "IipbXv6XeVah",
        "colab_type": "code",
        "outputId": "cbdc2693-4eaf-46e1-b30d-7506623c9010",
        "colab": {
          "base_uri": "https://localhost:8080/",
          "height": 33
        }
      },
      "source": [
        "len(captions_c3d)"
      ],
      "execution_count": 212,
      "outputs": [
        {
          "output_type": "execute_result",
          "data": {
            "text/plain": [
              "6000"
            ]
          },
          "metadata": {
            "tags": []
          },
          "execution_count": 212
        }
      ]
    },
    {
      "cell_type": "markdown",
      "metadata": {
        "id": "TWRuHa23_ffc",
        "colab_type": "text"
      },
      "source": [
        "# **4. Applying Different Machine Learning Models**\n",
        "\n",
        "\n"
      ]
    },
    {
      "cell_type": "markdown",
      "metadata": {
        "id": "SaE8IWLb0iVW",
        "colab_type": "text"
      },
      "source": [
        "**Model for Captions- Extra trees Regressor**\n",
        "\n",
        "\n"
      ]
    },
    {
      "cell_type": "code",
      "metadata": {
        "id": "a9xN7l38ewSx",
        "colab_type": "code",
        "colab": {}
      },
      "source": [
        "X = captions_bag\n",
        "y = dataset[['short-term_memorability','long-term_memorability']].values"
      ],
      "execution_count": 0,
      "outputs": []
    },
    {
      "cell_type": "code",
      "metadata": {
        "id": "uZSCQ4ROewXI",
        "colab_type": "code",
        "colab": {}
      },
      "source": [
        "# Splitting the dataset into the Training set and Test set\n",
        "X_train,X_test,y_train,y_test = train_test_split(X,y,test_size=0.2,random_state=42)\n"
      ],
      "execution_count": 0,
      "outputs": []
    },
    {
      "cell_type": "code",
      "metadata": {
        "id": "D3PhIkfDewRY",
        "colab_type": "code",
        "outputId": "da9706ff-8a24-4447-8d46-f5e98833cea5",
        "colab": {
          "base_uri": "https://localhost:8080/",
          "height": 82
        }
      },
      "source": [
        "print('X_train ', X_train.shape)\n",
        "print('X_test  ', X_test.shape)\n",
        "print('Y_train ', y_train.shape)\n",
        "print('Y_test  ', y_test.shape)"
      ],
      "execution_count": 215,
      "outputs": [
        {
          "output_type": "stream",
          "text": [
            "X_train  (4800, 3112)\n",
            "X_test   (1200, 3112)\n",
            "Y_train  (4800, 2)\n",
            "Y_test   (1200, 2)\n"
          ],
          "name": "stdout"
        }
      ]
    },
    {
      "cell_type": "code",
      "metadata": {
        "id": "iSKXE-_SHUP5",
        "colab_type": "code",
        "colab": {}
      },
      "source": [
        "from sklearn.ensemble import ExtraTreesRegressor\n",
        "captions_rf = ExtraTreesRegressor (n_estimators = 10, n_jobs = -1, random_state= 45)"
      ],
      "execution_count": 0,
      "outputs": []
    },
    {
      "cell_type": "code",
      "metadata": {
        "id": "9yo0IoS3HUdy",
        "colab_type": "code",
        "outputId": "6798616e-9f6e-4818-86fb-0585edb9ae47",
        "colab": {
          "base_uri": "https://localhost:8080/",
          "height": 131
        }
      },
      "source": [
        "captions_rf.fit(X_train,y_train)"
      ],
      "execution_count": 0,
      "outputs": [
        {
          "output_type": "execute_result",
          "data": {
            "text/plain": [
              "ExtraTreesRegressor(bootstrap=False, ccp_alpha=0.0, criterion='mse',\n",
              "                    max_depth=None, max_features='auto', max_leaf_nodes=None,\n",
              "                    max_samples=None, min_impurity_decrease=0.0,\n",
              "                    min_impurity_split=None, min_samples_leaf=1,\n",
              "                    min_samples_split=2, min_weight_fraction_leaf=0.0,\n",
              "                    n_estimators=10, n_jobs=-1, oob_score=False,\n",
              "                    random_state=45, verbose=0, warm_start=False)"
            ]
          },
          "metadata": {
            "tags": []
          },
          "execution_count": 217
        }
      ]
    },
    {
      "cell_type": "code",
      "metadata": {
        "id": "iXxlrqaLH8D5",
        "colab_type": "code",
        "colab": {}
      },
      "source": [
        "captions_pred = captions_rf.predict(X_test)"
      ],
      "execution_count": 0,
      "outputs": []
    },
    {
      "cell_type": "code",
      "metadata": {
        "id": "_Xna2ZKYH8X5",
        "colab_type": "code",
        "outputId": "ac569fe2-5bca-4f6b-a98d-b1c435260653",
        "colab": {
          "base_uri": "https://localhost:8080/",
          "height": 50
        }
      },
      "source": [
        "Get_score(captions_pred, y_test)"
      ],
      "execution_count": 219,
      "outputs": [
        {
          "output_type": "stream",
          "text": [
            "The Spearman's correlation coefficient is: 0.349\n",
            "The Spearman's correlation coefficient is: 0.115\n"
          ],
          "name": "stdout"
        }
      ]
    },
    {
      "cell_type": "markdown",
      "metadata": {
        "id": "14Zre9VrRa2a",
        "colab_type": "text"
      },
      "source": [
        "**Model for Captions- Multi-Output Regressor**"
      ]
    },
    {
      "cell_type": "code",
      "metadata": {
        "id": "Hsz4O4Lth9N-",
        "colab_type": "code",
        "colab": {}
      },
      "source": [
        "from sklearn.ensemble import RandomForestRegressor\n",
        "from sklearn.multioutput import MultiOutputRegressor"
      ],
      "execution_count": 0,
      "outputs": []
    },
    {
      "cell_type": "code",
      "metadata": {
        "id": "Mb8Y5QD7h9Li",
        "colab_type": "code",
        "outputId": "a36889bb-cd5c-41c7-c1f7-bc00f78a2376",
        "colab": {
          "base_uri": "https://localhost:8080/",
          "height": 310
        }
      },
      "source": [
        "cap_multirf = MultiOutputRegressor(RandomForestRegressor( random_state=45))\n",
        "cap_multirf.fit(X_train, y_train)"
      ],
      "execution_count": 221,
      "outputs": [
        {
          "output_type": "execute_result",
          "data": {
            "text/plain": [
              "MultiOutputRegressor(estimator=RandomForestRegressor(bootstrap=True,\n",
              "                                                     ccp_alpha=0.0,\n",
              "                                                     criterion='mse',\n",
              "                                                     max_depth=None,\n",
              "                                                     max_features='auto',\n",
              "                                                     max_leaf_nodes=None,\n",
              "                                                     max_samples=None,\n",
              "                                                     min_impurity_decrease=0.0,\n",
              "                                                     min_impurity_split=None,\n",
              "                                                     min_samples_leaf=1,\n",
              "                                                     min_samples_split=2,\n",
              "                                                     min_weight_fraction_leaf=0.0,\n",
              "                                                     n_estimators=100,\n",
              "                                                     n_jobs=None,\n",
              "                                                     oob_score=False,\n",
              "                                                     random_state=45, verbose=0,\n",
              "                                                     warm_start=False),\n",
              "                     n_jobs=None)"
            ]
          },
          "metadata": {
            "tags": []
          },
          "execution_count": 221
        }
      ]
    },
    {
      "cell_type": "code",
      "metadata": {
        "id": "zeE5W1G-h9EX",
        "colab_type": "code",
        "colab": {}
      },
      "source": [
        "cap_pred = cap_multirf.predict(X_test)"
      ],
      "execution_count": 0,
      "outputs": []
    },
    {
      "cell_type": "code",
      "metadata": {
        "id": "OTCQlwTkiNfO",
        "colab_type": "code",
        "outputId": "19f7a21d-1660-48d8-a309-14712825c184",
        "colab": {
          "base_uri": "https://localhost:8080/",
          "height": 50
        }
      },
      "source": [
        "Get_score(cap_pred, y_test)"
      ],
      "execution_count": 223,
      "outputs": [
        {
          "output_type": "stream",
          "text": [
            "The Spearman's correlation coefficient is: 0.418\n",
            "The Spearman's correlation coefficient is: 0.177\n"
          ],
          "name": "stdout"
        }
      ]
    },
    {
      "cell_type": "markdown",
      "metadata": {
        "id": "1GjmQIr3AGHo",
        "colab_type": "text"
      },
      "source": [
        "**Model for Caption - 'K-Nearest Neighbors'**"
      ]
    },
    {
      "cell_type": "code",
      "metadata": {
        "id": "BmZO-iAa68r_",
        "colab_type": "code",
        "colab": {}
      },
      "source": [
        "X = captions_bag\n",
        "y = dataset[['short-term_memorability','long-term_memorability']].values\n",
        "\n",
        "# Splitting the dataset into the Training set and Test set\n",
        "X_train,X_test,y_train,y_test = train_test_split(X,y,test_size=0.2,random_state=42)\n",
        "\n",
        "from sklearn.neighbors import KNeighborsRegressor\n",
        "model = KNeighborsRegressor(n_neighbors=300)"
      ],
      "execution_count": 0,
      "outputs": []
    },
    {
      "cell_type": "code",
      "metadata": {
        "id": "tvEXCgTA68oc",
        "colab_type": "code",
        "outputId": "7e5a091f-fd67-419f-fd0e-2590433f1dd5",
        "colab": {
          "base_uri": "https://localhost:8080/",
          "height": 66
        }
      },
      "source": [
        "model.fit(X_train, y_train)"
      ],
      "execution_count": 225,
      "outputs": [
        {
          "output_type": "execute_result",
          "data": {
            "text/plain": [
              "KNeighborsRegressor(algorithm='auto', leaf_size=30, metric='minkowski',\n",
              "                    metric_params=None, n_jobs=None, n_neighbors=300, p=2,\n",
              "                    weights='uniform')"
            ]
          },
          "metadata": {
            "tags": []
          },
          "execution_count": 225
        }
      ]
    },
    {
      "cell_type": "code",
      "metadata": {
        "id": "a6minjcC84JI",
        "colab_type": "code",
        "colab": {}
      },
      "source": [
        "KNN_pred = model.predict(X_test)"
      ],
      "execution_count": 0,
      "outputs": []
    },
    {
      "cell_type": "code",
      "metadata": {
        "id": "FQvYsS5D84f1",
        "colab_type": "code",
        "outputId": "e7439227-f22a-45ef-ecda-40363b8b4bae",
        "colab": {
          "base_uri": "https://localhost:8080/",
          "height": 50
        }
      },
      "source": [
        "Get_score(KNN_pred, y_test)"
      ],
      "execution_count": 227,
      "outputs": [
        {
          "output_type": "stream",
          "text": [
            "The Spearman's correlation coefficient is: 0.374\n",
            "The Spearman's correlation coefficient is: 0.127\n"
          ],
          "name": "stdout"
        }
      ]
    },
    {
      "cell_type": "markdown",
      "metadata": {
        "id": "RsQmwI7m1fSt",
        "colab_type": "text"
      },
      "source": [
        "**Model for Captions - GradientBoostingRegressor**"
      ]
    },
    {
      "cell_type": "code",
      "metadata": {
        "id": "lhgLAn1ZGefl",
        "colab_type": "code",
        "colab": {}
      },
      "source": [
        "# Separate the training and test data into arrays of a single target value\n",
        "y_train_0 = y_train[:,0]\n",
        "y_train_1 = y_train[:,1]\n",
        "\n",
        "y_test_0 = y_test[:,0]\n",
        "y_test_1 = y_test[:,1]\n",
        "\n",
        "# Import the model\n",
        "from sklearn.ensemble import GradientBoostingRegressor\n",
        "\n",
        "# Train the individual models with the default hyperparameters\n",
        "gbr0 = GradientBoostingRegressor()\n",
        "gbr0.fit(X_train,y_train_0)\n",
        "\n",
        "gbr1 = GradientBoostingRegressor()\n",
        "gbr1.fit(X_train,y_train_1)\n",
        "\n",
        "y_gbr0 = gbr0.predict(X_test)\n",
        "y_gbr1 = gbr1.predict(X_test)\n",
        "\n",
        "# Combine the predicted values so that we get an array of (150L, 2L)\n",
        "y_gbr = np.concatenate((y_gbr0.reshape(-1,1),y_gbr1.reshape(-1,1)),axis=1)"
      ],
      "execution_count": 0,
      "outputs": []
    },
    {
      "cell_type": "code",
      "metadata": {
        "id": "NrxyoaoDGeoT",
        "colab_type": "code",
        "outputId": "d9d9b654-edaf-4e24-a253-e04df7740425",
        "colab": {
          "base_uri": "https://localhost:8080/",
          "height": 50
        }
      },
      "source": [
        "Get_score(y_gbr, y_test)"
      ],
      "execution_count": 229,
      "outputs": [
        {
          "output_type": "stream",
          "text": [
            "The Spearman's correlation coefficient is: 0.400\n",
            "The Spearman's correlation coefficient is: 0.130\n"
          ],
          "name": "stdout"
        }
      ]
    },
    {
      "cell_type": "markdown",
      "metadata": {
        "id": "e-kbxPgK_K2J",
        "colab_type": "text"
      },
      "source": [
        "**Model for C3D features - Extra Trees Regressor**"
      ]
    },
    {
      "cell_type": "code",
      "metadata": {
        "id": "MVYxgfZP8lJz",
        "colab_type": "code",
        "colab": {}
      },
      "source": [
        "X = c3dfeatures\n",
        "y = dataset[['short-term_memorability','long-term_memorability']].values"
      ],
      "execution_count": 0,
      "outputs": []
    },
    {
      "cell_type": "code",
      "metadata": {
        "id": "Y7ojrrJa8lWQ",
        "colab_type": "code",
        "colab": {}
      },
      "source": [
        "# Splitting the dataset into the Training set and Test set\n",
        "X_train,X_test,y_train,y_test = train_test_split(X,y,test_size=0.2,random_state=42)"
      ],
      "execution_count": 0,
      "outputs": []
    },
    {
      "cell_type": "code",
      "metadata": {
        "id": "VX6Aky729kxe",
        "colab_type": "code",
        "colab": {}
      },
      "source": [
        "from sklearn.ensemble import ExtraTreesRegressor\n",
        "rf_regressor = ExtraTreesRegressor (n_estimators = 10, n_jobs = -1, random_state= 45)"
      ],
      "execution_count": 0,
      "outputs": []
    },
    {
      "cell_type": "code",
      "metadata": {
        "id": "Hxd_x8kN9k1u",
        "colab_type": "code",
        "outputId": "eac7fcb8-e893-41df-d474-88a53ca16a7a",
        "colab": {
          "base_uri": "https://localhost:8080/",
          "height": 131
        }
      },
      "source": [
        "rf_regressor.fit(X_train,y_train)"
      ],
      "execution_count": 233,
      "outputs": [
        {
          "output_type": "execute_result",
          "data": {
            "text/plain": [
              "ExtraTreesRegressor(bootstrap=False, ccp_alpha=0.0, criterion='mse',\n",
              "                    max_depth=None, max_features='auto', max_leaf_nodes=None,\n",
              "                    max_samples=None, min_impurity_decrease=0.0,\n",
              "                    min_impurity_split=None, min_samples_leaf=1,\n",
              "                    min_samples_split=2, min_weight_fraction_leaf=0.0,\n",
              "                    n_estimators=10, n_jobs=-1, oob_score=False,\n",
              "                    random_state=45, verbose=0, warm_start=False)"
            ]
          },
          "metadata": {
            "tags": []
          },
          "execution_count": 233
        }
      ]
    },
    {
      "cell_type": "code",
      "metadata": {
        "id": "ah853yFs9y_S",
        "colab_type": "code",
        "colab": {}
      },
      "source": [
        "rf_pred = rf_regressor.predict(X_test)"
      ],
      "execution_count": 0,
      "outputs": []
    },
    {
      "cell_type": "code",
      "metadata": {
        "id": "Em58Juys9zC5",
        "colab_type": "code",
        "outputId": "d723d696-c96f-4346-af5b-b346edd26aea",
        "colab": {
          "base_uri": "https://localhost:8080/",
          "height": 50
        }
      },
      "source": [
        "Get_score(rf_pred, y_test)"
      ],
      "execution_count": 235,
      "outputs": [
        {
          "output_type": "stream",
          "text": [
            "The Spearman's correlation coefficient is: 0.254\n",
            "The Spearman's correlation coefficient is: 0.079\n"
          ],
          "name": "stdout"
        }
      ]
    },
    {
      "cell_type": "markdown",
      "metadata": {
        "id": "Vp8km5UURtEN",
        "colab_type": "text"
      },
      "source": [
        "**Model for C3D features- Multi-Output Regressor**"
      ]
    },
    {
      "cell_type": "code",
      "metadata": {
        "id": "TFBQ7IodU7sT",
        "colab_type": "code",
        "colab": {}
      },
      "source": [
        "from sklearn.ensemble import RandomForestRegressor\n",
        "from sklearn.multioutput import MultiOutputRegressor"
      ],
      "execution_count": 0,
      "outputs": []
    },
    {
      "cell_type": "code",
      "metadata": {
        "id": "lYbyIhPPU73F",
        "colab_type": "code",
        "outputId": "ae755ff2-f3e1-4cd9-fff6-00a71cbdf115",
        "colab": {
          "base_uri": "https://localhost:8080/",
          "height": 310
        }
      },
      "source": [
        "regr_multirf = MultiOutputRegressor(RandomForestRegressor( random_state=45))\n",
        "regr_multirf.fit(X_train, y_train)"
      ],
      "execution_count": 237,
      "outputs": [
        {
          "output_type": "execute_result",
          "data": {
            "text/plain": [
              "MultiOutputRegressor(estimator=RandomForestRegressor(bootstrap=True,\n",
              "                                                     ccp_alpha=0.0,\n",
              "                                                     criterion='mse',\n",
              "                                                     max_depth=None,\n",
              "                                                     max_features='auto',\n",
              "                                                     max_leaf_nodes=None,\n",
              "                                                     max_samples=None,\n",
              "                                                     min_impurity_decrease=0.0,\n",
              "                                                     min_impurity_split=None,\n",
              "                                                     min_samples_leaf=1,\n",
              "                                                     min_samples_split=2,\n",
              "                                                     min_weight_fraction_leaf=0.0,\n",
              "                                                     n_estimators=100,\n",
              "                                                     n_jobs=None,\n",
              "                                                     oob_score=False,\n",
              "                                                     random_state=45, verbose=0,\n",
              "                                                     warm_start=False),\n",
              "                     n_jobs=None)"
            ]
          },
          "metadata": {
            "tags": []
          },
          "execution_count": 237
        }
      ]
    },
    {
      "cell_type": "code",
      "metadata": {
        "id": "SXMcIWsLVPd3",
        "colab_type": "code",
        "colab": {}
      },
      "source": [
        "m_pred = regr_multirf.predict(X_test)"
      ],
      "execution_count": 0,
      "outputs": []
    },
    {
      "cell_type": "code",
      "metadata": {
        "id": "MLQ-zStGVYKP",
        "colab_type": "code",
        "outputId": "41b9fcd5-2cfd-4538-8575-1183d561aa2f",
        "colab": {
          "base_uri": "https://localhost:8080/",
          "height": 50
        }
      },
      "source": [
        "Get_score(m_pred, y_test)"
      ],
      "execution_count": 239,
      "outputs": [
        {
          "output_type": "stream",
          "text": [
            "The Spearman's correlation coefficient is: 0.330\n",
            "The Spearman's correlation coefficient is: 0.114\n"
          ],
          "name": "stdout"
        }
      ]
    },
    {
      "cell_type": "markdown",
      "metadata": {
        "id": "qRTGEVq-0B5D",
        "colab_type": "text"
      },
      "source": [
        "**Model for C3D features - 'K-Nearest Neighbors'**"
      ]
    },
    {
      "cell_type": "code",
      "metadata": {
        "id": "X5M0SwVRRKY9",
        "colab_type": "code",
        "colab": {}
      },
      "source": [
        "from sklearn.neighbors import KNeighborsRegressor\n",
        "model_C3D = KNeighborsRegressor(n_neighbors=150)"
      ],
      "execution_count": 0,
      "outputs": []
    },
    {
      "cell_type": "code",
      "metadata": {
        "id": "J73JOef-RKem",
        "colab_type": "code",
        "outputId": "9f29ad6e-843b-438f-c92d-45779f02d910",
        "colab": {
          "base_uri": "https://localhost:8080/",
          "height": 66
        }
      },
      "source": [
        "model_C3D.fit(X_train, y_train)"
      ],
      "execution_count": 241,
      "outputs": [
        {
          "output_type": "execute_result",
          "data": {
            "text/plain": [
              "KNeighborsRegressor(algorithm='auto', leaf_size=30, metric='minkowski',\n",
              "                    metric_params=None, n_jobs=None, n_neighbors=150, p=2,\n",
              "                    weights='uniform')"
            ]
          },
          "metadata": {
            "tags": []
          },
          "execution_count": 241
        }
      ]
    },
    {
      "cell_type": "code",
      "metadata": {
        "id": "-XibuMWeRMtW",
        "colab_type": "code",
        "colab": {}
      },
      "source": [
        "KNN_C3D_pred = model_C3D.predict(X_test)"
      ],
      "execution_count": 0,
      "outputs": []
    },
    {
      "cell_type": "code",
      "metadata": {
        "id": "JqUMbuovRNl5",
        "colab_type": "code",
        "outputId": "2888fea6-0374-428f-8877-5565300388cd",
        "colab": {
          "base_uri": "https://localhost:8080/",
          "height": 50
        }
      },
      "source": [
        "Get_score(KNN_C3D_pred, y_test)"
      ],
      "execution_count": 243,
      "outputs": [
        {
          "output_type": "stream",
          "text": [
            "The Spearman's correlation coefficient is: 0.258\n",
            "The Spearman's correlation coefficient is: 0.112\n"
          ],
          "name": "stdout"
        }
      ]
    },
    {
      "cell_type": "markdown",
      "metadata": {
        "id": "jV1o8ry_z0da",
        "colab_type": "text"
      },
      "source": [
        "**Model for C3D features - Gradient Boosting Regressor**"
      ]
    },
    {
      "cell_type": "code",
      "metadata": {
        "id": "QBu_pZr3g9jO",
        "colab_type": "code",
        "colab": {}
      },
      "source": [
        "X = c3dfeatures\n",
        "y = dataset[['short-term_memorability','long-term_memorability']].values\n",
        "\n",
        "# Splitting the dataset into the Training set and Test set\n",
        "X_train,X_test,y_train,y_test = train_test_split(X,y,test_size=0.2,random_state=42)\n",
        "\n",
        "\n",
        "# Separate the training and test data into arrays of a single target value\n",
        "y_train_0 = y_train[:,0]\n",
        "y_train_1 = y_train[:,1]\n",
        "\n",
        "y_test_0 = y_test[:,0]\n",
        "y_test_1 = y_test[:,1]\n",
        "\n",
        "# Import the model\n",
        "from sklearn.ensemble import GradientBoostingRegressor\n",
        "\n",
        "# Train the individual models with the default hyperparameters\n",
        "gbr_c3d_1 = GradientBoostingRegressor(n_estimators = 200,  random_state= 10)\n",
        "gbr_c3d_1.fit(X_train,y_train_0)\n",
        "\n",
        "gbr_c3d_2 = GradientBoostingRegressor(n_estimators = 200,  random_state= 10)\n",
        "gbr_c3d_2.fit(X_train,y_train_1)\n",
        "\n",
        "y_gbr_c3d_1 = gbr_c3d_1.predict(X_test)\n",
        "y_gbr_c3d_2 = gbr_c3d_1.predict(X_test)\n",
        "\n",
        "# Combine the predicted values so that we get an array of ( short-term,long-term )\n",
        "y_gbr_c3d = np.concatenate((y_gbr_c3d_1.reshape(-1,1),y_gbr_c3d_2.reshape(-1,1)),axis=1)"
      ],
      "execution_count": 0,
      "outputs": []
    },
    {
      "cell_type": "code",
      "metadata": {
        "id": "ZdW2KFX2g9gL",
        "colab_type": "code",
        "outputId": "12f5c011-2fb2-4ad8-82a5-5f9b0a4f2033",
        "colab": {
          "base_uri": "https://localhost:8080/",
          "height": 50
        }
      },
      "source": [
        "Get_score(y_gbr_c3d, y_test)"
      ],
      "execution_count": 245,
      "outputs": [
        {
          "output_type": "stream",
          "text": [
            "The Spearman's correlation coefficient is: 0.313\n",
            "The Spearman's correlation coefficient is: 0.164\n"
          ],
          "name": "stdout"
        }
      ]
    },
    {
      "cell_type": "markdown",
      "metadata": {
        "id": "7ZbQ6Gm4xIVY",
        "colab_type": "text"
      },
      "source": [
        "**Model for Asthetic features - Extra Trees Regressor**"
      ]
    },
    {
      "cell_type": "code",
      "metadata": {
        "id": "s0dU3IyJQ_q5",
        "colab_type": "code",
        "colab": {}
      },
      "source": [
        "x=dataframe_aes\n",
        "y = dataset[['short-term_memorability','long-term_memorability']].values\n"
      ],
      "execution_count": 0,
      "outputs": []
    },
    {
      "cell_type": "code",
      "metadata": {
        "id": "tygfyyHgQ_0u",
        "colab_type": "code",
        "colab": {}
      },
      "source": [
        "# Splitting the dataset into the Training set and Test set\n",
        "X_train,X_test,y_train,y_test = train_test_split(X,y,test_size=0.2,random_state=42)"
      ],
      "execution_count": 0,
      "outputs": []
    },
    {
      "cell_type": "code",
      "metadata": {
        "id": "goD0BSBLRADT",
        "colab_type": "code",
        "colab": {}
      },
      "source": [
        "from sklearn.ensemble import ExtraTreesRegressor\n",
        "rf_asthetics = ExtraTreesRegressor (n_estimators = 10, n_jobs = -1, random_state= 45)"
      ],
      "execution_count": 0,
      "outputs": []
    },
    {
      "cell_type": "code",
      "metadata": {
        "id": "FKxW25ptRAAO",
        "colab_type": "code",
        "outputId": "165ac65c-dfcf-4a2d-cae7-d5819a33ecea",
        "colab": {
          "base_uri": "https://localhost:8080/",
          "height": 131
        }
      },
      "source": [
        "rf_asthetics.fit(X_train,y_train)"
      ],
      "execution_count": 249,
      "outputs": [
        {
          "output_type": "execute_result",
          "data": {
            "text/plain": [
              "ExtraTreesRegressor(bootstrap=False, ccp_alpha=0.0, criterion='mse',\n",
              "                    max_depth=None, max_features='auto', max_leaf_nodes=None,\n",
              "                    max_samples=None, min_impurity_decrease=0.0,\n",
              "                    min_impurity_split=None, min_samples_leaf=1,\n",
              "                    min_samples_split=2, min_weight_fraction_leaf=0.0,\n",
              "                    n_estimators=10, n_jobs=-1, oob_score=False,\n",
              "                    random_state=45, verbose=0, warm_start=False)"
            ]
          },
          "metadata": {
            "tags": []
          },
          "execution_count": 249
        }
      ]
    },
    {
      "cell_type": "code",
      "metadata": {
        "id": "gV99f8GLQ_9Q",
        "colab_type": "code",
        "colab": {}
      },
      "source": [
        "rf_aes_pred = rf_asthetics.predict(X_test)"
      ],
      "execution_count": 0,
      "outputs": []
    },
    {
      "cell_type": "code",
      "metadata": {
        "id": "l8EfmDo7fmXI",
        "colab_type": "code",
        "outputId": "853d0f4a-f5c7-4773-df82-84cb9b9ad136",
        "colab": {
          "base_uri": "https://localhost:8080/",
          "height": 50
        }
      },
      "source": [
        "Get_score(rf_aes_pred,y_test)"
      ],
      "execution_count": 251,
      "outputs": [
        {
          "output_type": "stream",
          "text": [
            "The Spearman's correlation coefficient is: 0.254\n",
            "The Spearman's correlation coefficient is: 0.079\n"
          ],
          "name": "stdout"
        }
      ]
    },
    {
      "cell_type": "markdown",
      "metadata": {
        "id": "6ML2l08lR8lX",
        "colab_type": "text"
      },
      "source": [
        "**Model for Aesthetics Features- Multi-Output Regressor**"
      ]
    },
    {
      "cell_type": "code",
      "metadata": {
        "id": "Ut90_ix5r5JL",
        "colab_type": "code",
        "colab": {
          "base_uri": "https://localhost:8080/",
          "height": 310
        },
        "outputId": "7f7e6856-e2bd-44f7-981b-341a8ac8a48c"
      },
      "source": [
        "aes_multirf = MultiOutputRegressor(RandomForestRegressor( random_state=45))\n",
        "aes_multirf.fit(X_train, y_train)"
      ],
      "execution_count": 252,
      "outputs": [
        {
          "output_type": "execute_result",
          "data": {
            "text/plain": [
              "MultiOutputRegressor(estimator=RandomForestRegressor(bootstrap=True,\n",
              "                                                     ccp_alpha=0.0,\n",
              "                                                     criterion='mse',\n",
              "                                                     max_depth=None,\n",
              "                                                     max_features='auto',\n",
              "                                                     max_leaf_nodes=None,\n",
              "                                                     max_samples=None,\n",
              "                                                     min_impurity_decrease=0.0,\n",
              "                                                     min_impurity_split=None,\n",
              "                                                     min_samples_leaf=1,\n",
              "                                                     min_samples_split=2,\n",
              "                                                     min_weight_fraction_leaf=0.0,\n",
              "                                                     n_estimators=100,\n",
              "                                                     n_jobs=None,\n",
              "                                                     oob_score=False,\n",
              "                                                     random_state=45, verbose=0,\n",
              "                                                     warm_start=False),\n",
              "                     n_jobs=None)"
            ]
          },
          "metadata": {
            "tags": []
          },
          "execution_count": 252
        }
      ]
    },
    {
      "cell_type": "code",
      "metadata": {
        "id": "fAFWKwxFr5cH",
        "colab_type": "code",
        "colab": {}
      },
      "source": [
        "aes_pred = aes_multirf.predict (X_test)"
      ],
      "execution_count": 0,
      "outputs": []
    },
    {
      "cell_type": "code",
      "metadata": {
        "id": "cl86tvKisMsU",
        "colab_type": "code",
        "colab": {
          "base_uri": "https://localhost:8080/",
          "height": 50
        },
        "outputId": "cfc32069-7932-4229-9b1b-d0eab5cad1f3"
      },
      "source": [
        "Get_score(aes_pred,y_test)"
      ],
      "execution_count": 254,
      "outputs": [
        {
          "output_type": "stream",
          "text": [
            "The Spearman's correlation coefficient is: 0.330\n",
            "The Spearman's correlation coefficient is: 0.114\n"
          ],
          "name": "stdout"
        }
      ]
    },
    {
      "cell_type": "markdown",
      "metadata": {
        "id": "gQtwAyymzXE8",
        "colab_type": "text"
      },
      "source": [
        "**Model for Asthetic features - 'K-Nearest Neighbors'**"
      ]
    },
    {
      "cell_type": "code",
      "metadata": {
        "id": "X6w1WoZlmszn",
        "colab_type": "code",
        "colab": {}
      },
      "source": [
        "from sklearn.neighbors import KNeighborsRegressor\n",
        "model_aes = KNeighborsRegressor(n_neighbors=150)"
      ],
      "execution_count": 0,
      "outputs": []
    },
    {
      "cell_type": "code",
      "metadata": {
        "id": "Fdux-Tb0ms3_",
        "colab_type": "code",
        "outputId": "50332cf1-44fc-422f-9d3d-77e7fc4031b4",
        "colab": {
          "base_uri": "https://localhost:8080/",
          "height": 66
        }
      },
      "source": [
        "model_aes.fit(X_train,y_train)"
      ],
      "execution_count": 256,
      "outputs": [
        {
          "output_type": "execute_result",
          "data": {
            "text/plain": [
              "KNeighborsRegressor(algorithm='auto', leaf_size=30, metric='minkowski',\n",
              "                    metric_params=None, n_jobs=None, n_neighbors=150, p=2,\n",
              "                    weights='uniform')"
            ]
          },
          "metadata": {
            "tags": []
          },
          "execution_count": 256
        }
      ]
    },
    {
      "cell_type": "code",
      "metadata": {
        "id": "78gADU8nm85G",
        "colab_type": "code",
        "colab": {}
      },
      "source": [
        "model_aes_pred = model_aes.predict(X_test)"
      ],
      "execution_count": 0,
      "outputs": []
    },
    {
      "cell_type": "code",
      "metadata": {
        "id": "CnRKjsnom9KQ",
        "colab_type": "code",
        "outputId": "50b6cb82-2596-4719-d66c-c5e242c7e6e2",
        "colab": {
          "base_uri": "https://localhost:8080/",
          "height": 50
        }
      },
      "source": [
        "Get_score(model_aes_pred,y_test)"
      ],
      "execution_count": 258,
      "outputs": [
        {
          "output_type": "stream",
          "text": [
            "The Spearman's correlation coefficient is: 0.258\n",
            "The Spearman's correlation coefficient is: 0.112\n"
          ],
          "name": "stdout"
        }
      ]
    },
    {
      "cell_type": "markdown",
      "metadata": {
        "id": "JK65530hzpxO",
        "colab_type": "text"
      },
      "source": [
        "**Model for Asthetic features - Gradient Boosting Regressor**"
      ]
    },
    {
      "cell_type": "code",
      "metadata": {
        "id": "BvWhgS_tneaU",
        "colab_type": "code",
        "colab": {}
      },
      "source": [
        "# Separate the training and test data into arrays of a single target value\n",
        "y_train_0 = y_train[:,0]\n",
        "y_train_1 = y_train[:,1]\n",
        "\n",
        "y_test_0 = y_test[:,0]\n",
        "y_test_1 = y_test[:,1]\n",
        "\n",
        "# Import the model\n",
        "from sklearn.ensemble import GradientBoostingRegressor\n",
        "\n",
        "import time\n",
        "st=time.time()\n",
        "\n",
        "# Train the individual models with the default hyperparameters\n",
        "gbr_aes1 = GradientBoostingRegressor()\n",
        "gbr_aes1.fit(X_train,y_train_0)\n",
        "\n",
        "gbr_aes2 = GradientBoostingRegressor()\n",
        "gbr_aes2.fit(X_train,y_train_1)\n",
        "\n",
        "y_gbr_a1 = gbr_aes1.predict(X_test)\n",
        "y_gbr_a2 = gbr_aes2.predict(X_test)\n",
        "\n",
        "# Combine the predicted values so that we get an array of (150L, 2L)\n",
        "y_gbr_aes = np.concatenate((y_gbr_a1.reshape(-1,1),y_gbr_a2.reshape(-1,1)),axis=1)"
      ],
      "execution_count": 0,
      "outputs": []
    },
    {
      "cell_type": "code",
      "metadata": {
        "id": "hZtUkuZrneW3",
        "colab_type": "code",
        "outputId": "d61a3cc5-390a-46c8-c05e-fbbf632a9bcc",
        "colab": {
          "base_uri": "https://localhost:8080/",
          "height": 50
        }
      },
      "source": [
        "Get_score(y_gbr_aes,y_test)"
      ],
      "execution_count": 260,
      "outputs": [
        {
          "output_type": "stream",
          "text": [
            "The Spearman's correlation coefficient is: 0.310\n",
            "The Spearman's correlation coefficient is: 0.111\n"
          ],
          "name": "stdout"
        }
      ]
    },
    {
      "cell_type": "markdown",
      "metadata": {
        "id": "VY12_im2ON4p",
        "colab_type": "text"
      },
      "source": [
        "\n",
        "|Features|Models|Short Term| Long Term |\n",
        "|------|--------|------|-------------------|\n",
        "|Captions|Extra-Tree Regressor|0.349|0.115|\n",
        "||Multi-Output Regressor|**0.418**|**0.177**|\n",
        "||K-Nearest Neighbors Regressor|0.314|0.127|\n",
        "||Gradient Boosting Regressor|0.400|0.130|\n",
        "|C3D|Extra-Tree Regressor|0.254|0.079|\n",
        "||Multi-Output Regressor|0.330|0.114|\n",
        "||K-Nearest Neighbors Regressor|0.258|0.112|\n",
        "||Gradient Boosting Regressor|0.313|0.164|\n",
        "|Aesthetics|Extra-Tree Regressor|0.254|0.079|\n",
        "||Multi-Output Regressor|0.330|0.114|\n",
        "||K-Nearest Neighbors Regressor|0.258|0.112|\n",
        "||Gradient Boosting Regressor|0.310|0.111|\n",
        "\n",
        "\n",
        "\n",
        "\n",
        "\n"
      ]
    },
    {
      "cell_type": "markdown",
      "metadata": {
        "id": "Td5SIU8rPD3s",
        "colab_type": "text"
      },
      "source": [
        "**As from above models Multi-Output Regressor have performed well with all the features. The C3D feature with Multi-Output Regressor give best results for both short and long term mmemorability score.**\n",
        "\n",
        "**We will be using full 6000 records of development datatset to train our model and predict the scores on testing set which has 2000 records.** "
      ]
    },
    {
      "cell_type": "markdown",
      "metadata": {
        "id": "bg49xT63WDw5",
        "colab_type": "text"
      },
      "source": [
        "# **# 6. Training Full Dev-Set**"
      ]
    },
    {
      "cell_type": "code",
      "metadata": {
        "id": "qzPYtyghOUZA",
        "colab_type": "code",
        "colab": {}
      },
      "source": [
        "X = captions_bag\n",
        "y = dataset[['short-term_memorability','long-term_memorability']].values"
      ],
      "execution_count": 0,
      "outputs": []
    },
    {
      "cell_type": "code",
      "metadata": {
        "id": "2m3eHlaLOuWY",
        "colab_type": "code",
        "outputId": "54dba4df-7239-43e3-d8cf-d7cb4fedc67d",
        "colab": {
          "base_uri": "https://localhost:8080/",
          "height": 50
        }
      },
      "source": [
        "print(f'X: ({len(X)})')\n",
        "print(f'y:{y.shape}')"
      ],
      "execution_count": 281,
      "outputs": [
        {
          "output_type": "stream",
          "text": [
            "X: (6000)\n",
            "y:(6000, 2)\n"
          ],
          "name": "stdout"
        }
      ]
    },
    {
      "cell_type": "code",
      "metadata": {
        "id": "UoPCJkA3Oull",
        "colab_type": "code",
        "outputId": "ffe14eb0-600c-437a-b2cc-6fab096e1533",
        "colab": {
          "base_uri": "https://localhost:8080/",
          "height": 310
        }
      },
      "source": [
        "final_multirf = MultiOutputRegressor(RandomForestRegressor( random_state=45))\n",
        "final_multirf.fit(X, y)\n"
      ],
      "execution_count": 291,
      "outputs": [
        {
          "output_type": "execute_result",
          "data": {
            "text/plain": [
              "MultiOutputRegressor(estimator=RandomForestRegressor(bootstrap=True,\n",
              "                                                     ccp_alpha=0.0,\n",
              "                                                     criterion='mse',\n",
              "                                                     max_depth=None,\n",
              "                                                     max_features='auto',\n",
              "                                                     max_leaf_nodes=None,\n",
              "                                                     max_samples=None,\n",
              "                                                     min_impurity_decrease=0.0,\n",
              "                                                     min_impurity_split=None,\n",
              "                                                     min_samples_leaf=1,\n",
              "                                                     min_samples_split=2,\n",
              "                                                     min_weight_fraction_leaf=0.0,\n",
              "                                                     n_estimators=100,\n",
              "                                                     n_jobs=None,\n",
              "                                                     oob_score=False,\n",
              "                                                     random_state=45, verbose=0,\n",
              "                                                     warm_start=False),\n",
              "                     n_jobs=None)"
            ]
          },
          "metadata": {
            "tags": []
          },
          "execution_count": 291
        }
      ]
    },
    {
      "cell_type": "markdown",
      "metadata": {
        "id": "AJ4eKQlCQudJ",
        "colab_type": "text"
      },
      "source": [
        "**Loading the Testing Data**"
      ]
    },
    {
      "cell_type": "code",
      "metadata": {
        "id": "dD1A-fC1rYFf",
        "colab_type": "code",
        "colab": {}
      },
      "source": [
        "#Function to load the captions into dataframes\n",
        "def load_captions_test(filename):\n",
        "    video_name_test = []\n",
        "    captions_test = []\n",
        "    dataframe_test = pd.DataFrame()\n",
        "    with open(filename) as file:\n",
        "        for line in file:\n",
        "            pair = line.split() #each line in the text file contains to words so, this code will split them into two words\n",
        "            video_name_test.append(pair[0]) #first word will be assigned as video name\n",
        "            captions_test.append(pair[1]) #second word will be assigned as caption\n",
        "        dataframe_test['video']=video_name_test #setting these two as column names of dataframe\n",
        "        dataframe_test['caption']=captions_test\n",
        "    return dataframe_test"
      ],
      "execution_count": 0,
      "outputs": []
    },
    {
      "cell_type": "code",
      "metadata": {
        "id": "k6S0PBqKsDvH",
        "colab_type": "code",
        "colab": {}
      },
      "source": [
        "#load captions\n",
        "captions_path ='./Test-set/Captions_test/test-set-1_video-captions.txt'\n",
        "test_captions = load_captions_test(captions_path)"
      ],
      "execution_count": 0,
      "outputs": []
    },
    {
      "cell_type": "code",
      "metadata": {
        "id": "_S8khjVFtGMb",
        "colab_type": "code",
        "outputId": "b726664c-fbcf-44a2-fc14-aa5e401bb59f",
        "colab": {
          "base_uri": "https://localhost:8080/",
          "height": 191
        }
      },
      "source": [
        "test_captions.head(5)"
      ],
      "execution_count": 294,
      "outputs": [
        {
          "output_type": "execute_result",
          "data": {
            "text/html": [
              "<div>\n",
              "<style scoped>\n",
              "    .dataframe tbody tr th:only-of-type {\n",
              "        vertical-align: middle;\n",
              "    }\n",
              "\n",
              "    .dataframe tbody tr th {\n",
              "        vertical-align: top;\n",
              "    }\n",
              "\n",
              "    .dataframe thead th {\n",
              "        text-align: right;\n",
              "    }\n",
              "</style>\n",
              "<table border=\"1\" class=\"dataframe\">\n",
              "  <thead>\n",
              "    <tr style=\"text-align: right;\">\n",
              "      <th></th>\n",
              "      <th>video</th>\n",
              "      <th>caption</th>\n",
              "    </tr>\n",
              "  </thead>\n",
              "  <tbody>\n",
              "    <tr>\n",
              "      <th>0</th>\n",
              "      <td>video7494.webm</td>\n",
              "      <td>green-jeep-struggling-to-drive-over-huge-rocks</td>\n",
              "    </tr>\n",
              "    <tr>\n",
              "      <th>1</th>\n",
              "      <td>video7495.webm</td>\n",
              "      <td>hiking-woman-tourist-is-walking-forward-in-mou...</td>\n",
              "    </tr>\n",
              "    <tr>\n",
              "      <th>2</th>\n",
              "      <td>video7496.webm</td>\n",
              "      <td>close-up-of-african-american-doctors-hands-usi...</td>\n",
              "    </tr>\n",
              "    <tr>\n",
              "      <th>3</th>\n",
              "      <td>video7497.webm</td>\n",
              "      <td>slow-motion-of-a-man-using-treadmill-in-the-gy...</td>\n",
              "    </tr>\n",
              "    <tr>\n",
              "      <th>4</th>\n",
              "      <td>video7498.webm</td>\n",
              "      <td>slow-motion-of-photographer-in-national-park</td>\n",
              "    </tr>\n",
              "  </tbody>\n",
              "</table>\n",
              "</div>"
            ],
            "text/plain": [
              "            video                                            caption\n",
              "0  video7494.webm     green-jeep-struggling-to-drive-over-huge-rocks\n",
              "1  video7495.webm  hiking-woman-tourist-is-walking-forward-in-mou...\n",
              "2  video7496.webm  close-up-of-african-american-doctors-hands-usi...\n",
              "3  video7497.webm  slow-motion-of-a-man-using-treadmill-in-the-gy...\n",
              "4  video7498.webm       slow-motion-of-photographer-in-national-park"
            ]
          },
          "metadata": {
            "tags": []
          },
          "execution_count": 294
        }
      ]
    },
    {
      "cell_type": "code",
      "metadata": {
        "id": "vUDRAH0oJRR7",
        "colab_type": "code",
        "colab": {
          "base_uri": "https://localhost:8080/",
          "height": 66
        },
        "outputId": "5e3486ea-863b-4b32-d9b4-b8baf9ef2b2e"
      },
      "source": [
        "#Removing punctuations and stop words from captions\n",
        "# setup prograss tracker\n",
        "pbar = pyprind.ProgBar(len(test_captions['caption']), title='Counting word occurrences')\n",
        "for i, cap in enumerate(test_captions['caption']):\n",
        "    # replace punctuations with space\n",
        "    # convert words to lower case \n",
        "    text = ''.join([c if c not in punctuation else ' ' for c in cap]).lower()\n",
        "    #removing stopwords\n",
        "    rmv_stopwords= ' '.join([word for word in text.split() if word not in stopwords])\n",
        "    test_captions.loc[i,'caption'] = rmv_stopwords #updating the original captions \n",
        "    pbar.update()"
      ],
      "execution_count": 295,
      "outputs": [
        {
          "output_type": "stream",
          "text": [
            "Counting word occurrences\n",
            "0% [##############################] 100% | ETA: 00:00:00\n",
            "Total time elapsed: 00:00:00\n"
          ],
          "name": "stderr"
        }
      ]
    },
    {
      "cell_type": "code",
      "metadata": {
        "id": "tLngvjixJlbM",
        "colab_type": "code",
        "colab": {
          "base_uri": "https://localhost:8080/",
          "height": 191
        },
        "outputId": "9be9edff-78f2-47a7-e72a-fabdcd5940df"
      },
      "source": [
        "test_captions.head()"
      ],
      "execution_count": 296,
      "outputs": [
        {
          "output_type": "execute_result",
          "data": {
            "text/html": [
              "<div>\n",
              "<style scoped>\n",
              "    .dataframe tbody tr th:only-of-type {\n",
              "        vertical-align: middle;\n",
              "    }\n",
              "\n",
              "    .dataframe tbody tr th {\n",
              "        vertical-align: top;\n",
              "    }\n",
              "\n",
              "    .dataframe thead th {\n",
              "        text-align: right;\n",
              "    }\n",
              "</style>\n",
              "<table border=\"1\" class=\"dataframe\">\n",
              "  <thead>\n",
              "    <tr style=\"text-align: right;\">\n",
              "      <th></th>\n",
              "      <th>video</th>\n",
              "      <th>caption</th>\n",
              "    </tr>\n",
              "  </thead>\n",
              "  <tbody>\n",
              "    <tr>\n",
              "      <th>0</th>\n",
              "      <td>video7494.webm</td>\n",
              "      <td>green jeep struggling drive huge rocks</td>\n",
              "    </tr>\n",
              "    <tr>\n",
              "      <th>1</th>\n",
              "      <td>video7495.webm</td>\n",
              "      <td>hiking woman tourist walking forward mountains...</td>\n",
              "    </tr>\n",
              "    <tr>\n",
              "      <th>2</th>\n",
              "      <td>video7496.webm</td>\n",
              "      <td>close african american doctors hands using sph...</td>\n",
              "    </tr>\n",
              "    <tr>\n",
              "      <th>3</th>\n",
              "      <td>video7497.webm</td>\n",
              "      <td>slow motion man using treadmill gym regular ph...</td>\n",
              "    </tr>\n",
              "    <tr>\n",
              "      <th>4</th>\n",
              "      <td>video7498.webm</td>\n",
              "      <td>slow motion photographer national park</td>\n",
              "    </tr>\n",
              "  </tbody>\n",
              "</table>\n",
              "</div>"
            ],
            "text/plain": [
              "            video                                            caption\n",
              "0  video7494.webm             green jeep struggling drive huge rocks\n",
              "1  video7495.webm  hiking woman tourist walking forward mountains...\n",
              "2  video7496.webm  close african american doctors hands using sph...\n",
              "3  video7497.webm  slow motion man using treadmill gym regular ph...\n",
              "4  video7498.webm             slow motion photographer national park"
            ]
          },
          "metadata": {
            "tags": []
          },
          "execution_count": 296
        }
      ]
    },
    {
      "cell_type": "code",
      "metadata": {
        "id": "f4cnq2PYJy5H",
        "colab_type": "code",
        "colab": {
          "base_uri": "https://localhost:8080/",
          "height": 33
        },
        "outputId": "fb228f71-d179-4a80-a18a-1b59c47e9d09"
      },
      "source": [
        "#implementing bag of words for the combined captions\n",
        "from sklearn.feature_extraction.text import CountVectorizer\n",
        "vectorizer = CountVectorizer(analyzer = \"word\",max_features=3122) \n",
        "test_captions_bag = vectorizer.fit_transform(test_captions.caption).toarray()\n",
        "type(test_captions_bag)"
      ],
      "execution_count": 297,
      "outputs": [
        {
          "output_type": "execute_result",
          "data": {
            "text/plain": [
              "numpy.ndarray"
            ]
          },
          "metadata": {
            "tags": []
          },
          "execution_count": 297
        }
      ]
    },
    {
      "cell_type": "code",
      "metadata": {
        "id": "irFzHa7aJ7T6",
        "colab_type": "code",
        "colab": {
          "base_uri": "https://localhost:8080/",
          "height": 50
        },
        "outputId": "a0c0eae6-8998-4590-f45e-028311949d6a"
      },
      "source": [
        "print(f'Development Vocabulary Size   : {len(captions_bag[0])}')\n",
        "print(f'Testing Vocabulary Size       : {len(test_captions_bag[0])}')"
      ],
      "execution_count": 298,
      "outputs": [
        {
          "output_type": "stream",
          "text": [
            "Development Vocabulary Size   : 3112\n",
            "Testing Vocabulary Size       : 3112\n"
          ],
          "name": "stdout"
        }
      ]
    },
    {
      "cell_type": "code",
      "metadata": {
        "id": "6E91dWQazVzt",
        "colab_type": "code",
        "colab": {}
      },
      "source": [
        "test_pred = final_multirf.predict(test_captions_bag)\n"
      ],
      "execution_count": 0,
      "outputs": []
    },
    {
      "cell_type": "code",
      "metadata": {
        "id": "aBfHubpN0bXf",
        "colab_type": "code",
        "colab": {}
      },
      "source": [
        "pred = pd.DataFrame()"
      ],
      "execution_count": 0,
      "outputs": []
    },
    {
      "cell_type": "code",
      "metadata": {
        "id": "FKmHB6_P0uBc",
        "colab_type": "code",
        "outputId": "e8c69a25-4875-4a89-e7d2-c1db013e3d75",
        "colab": {
          "base_uri": "https://localhost:8080/",
          "height": 33
        }
      },
      "source": [
        "type(test_pred)"
      ],
      "execution_count": 301,
      "outputs": [
        {
          "output_type": "execute_result",
          "data": {
            "text/plain": [
              "numpy.ndarray"
            ]
          },
          "metadata": {
            "tags": []
          },
          "execution_count": 301
        }
      ]
    },
    {
      "cell_type": "code",
      "metadata": {
        "id": "Im2Cb31x0y09",
        "colab_type": "code",
        "colab": {}
      },
      "source": [
        "pred['short-term'] = test_pred[:,0]"
      ],
      "execution_count": 0,
      "outputs": []
    },
    {
      "cell_type": "code",
      "metadata": {
        "id": "7GuVB2j10zCy",
        "colab_type": "code",
        "colab": {}
      },
      "source": [
        "pred['long-term'] = test_pred[:,1]"
      ],
      "execution_count": 0,
      "outputs": []
    },
    {
      "cell_type": "code",
      "metadata": {
        "id": "xAyQpr-C0-Dj",
        "colab_type": "code",
        "outputId": "e0bb2f69-c571-44ae-a554-93077f968bab",
        "colab": {
          "base_uri": "https://localhost:8080/",
          "height": 191
        }
      },
      "source": [
        "pred.head()"
      ],
      "execution_count": 304,
      "outputs": [
        {
          "output_type": "execute_result",
          "data": {
            "text/html": [
              "<div>\n",
              "<style scoped>\n",
              "    .dataframe tbody tr th:only-of-type {\n",
              "        vertical-align: middle;\n",
              "    }\n",
              "\n",
              "    .dataframe tbody tr th {\n",
              "        vertical-align: top;\n",
              "    }\n",
              "\n",
              "    .dataframe thead th {\n",
              "        text-align: right;\n",
              "    }\n",
              "</style>\n",
              "<table border=\"1\" class=\"dataframe\">\n",
              "  <thead>\n",
              "    <tr style=\"text-align: right;\">\n",
              "      <th></th>\n",
              "      <th>short-term</th>\n",
              "      <th>long-term</th>\n",
              "    </tr>\n",
              "  </thead>\n",
              "  <tbody>\n",
              "    <tr>\n",
              "      <th>0</th>\n",
              "      <td>0.880204</td>\n",
              "      <td>0.749224</td>\n",
              "    </tr>\n",
              "    <tr>\n",
              "      <th>1</th>\n",
              "      <td>0.835572</td>\n",
              "      <td>0.794127</td>\n",
              "    </tr>\n",
              "    <tr>\n",
              "      <th>2</th>\n",
              "      <td>0.799627</td>\n",
              "      <td>0.773613</td>\n",
              "    </tr>\n",
              "    <tr>\n",
              "      <th>3</th>\n",
              "      <td>0.900068</td>\n",
              "      <td>0.862292</td>\n",
              "    </tr>\n",
              "    <tr>\n",
              "      <th>4</th>\n",
              "      <td>0.844054</td>\n",
              "      <td>0.723551</td>\n",
              "    </tr>\n",
              "  </tbody>\n",
              "</table>\n",
              "</div>"
            ],
            "text/plain": [
              "   short-term  long-term\n",
              "0    0.880204   0.749224\n",
              "1    0.835572   0.794127\n",
              "2    0.799627   0.773613\n",
              "3    0.900068   0.862292\n",
              "4    0.844054   0.723551"
            ]
          },
          "metadata": {
            "tags": []
          },
          "execution_count": 304
        }
      ]
    },
    {
      "cell_type": "code",
      "metadata": {
        "id": "WDVYP0dWQ9JB",
        "colab_type": "code",
        "outputId": "ff1bfcbb-69e5-410e-ab6f-a9c7fd39e246",
        "colab": {
          "base_uri": "https://localhost:8080/",
          "height": 277
        }
      },
      "source": [
        "pred.describe()"
      ],
      "execution_count": 305,
      "outputs": [
        {
          "output_type": "execute_result",
          "data": {
            "text/html": [
              "<div>\n",
              "<style scoped>\n",
              "    .dataframe tbody tr th:only-of-type {\n",
              "        vertical-align: middle;\n",
              "    }\n",
              "\n",
              "    .dataframe tbody tr th {\n",
              "        vertical-align: top;\n",
              "    }\n",
              "\n",
              "    .dataframe thead th {\n",
              "        text-align: right;\n",
              "    }\n",
              "</style>\n",
              "<table border=\"1\" class=\"dataframe\">\n",
              "  <thead>\n",
              "    <tr style=\"text-align: right;\">\n",
              "      <th></th>\n",
              "      <th>short-term</th>\n",
              "      <th>long-term</th>\n",
              "    </tr>\n",
              "  </thead>\n",
              "  <tbody>\n",
              "    <tr>\n",
              "      <th>count</th>\n",
              "      <td>2000.000000</td>\n",
              "      <td>2000.000000</td>\n",
              "    </tr>\n",
              "    <tr>\n",
              "      <th>mean</th>\n",
              "      <td>0.841895</td>\n",
              "      <td>0.748591</td>\n",
              "    </tr>\n",
              "    <tr>\n",
              "      <th>std</th>\n",
              "      <td>0.038783</td>\n",
              "      <td>0.070782</td>\n",
              "    </tr>\n",
              "    <tr>\n",
              "      <th>min</th>\n",
              "      <td>0.656527</td>\n",
              "      <td>0.368548</td>\n",
              "    </tr>\n",
              "    <tr>\n",
              "      <th>25%</th>\n",
              "      <td>0.820358</td>\n",
              "      <td>0.712203</td>\n",
              "    </tr>\n",
              "    <tr>\n",
              "      <th>50%</th>\n",
              "      <td>0.845011</td>\n",
              "      <td>0.753943</td>\n",
              "    </tr>\n",
              "    <tr>\n",
              "      <th>75%</th>\n",
              "      <td>0.867141</td>\n",
              "      <td>0.793247</td>\n",
              "    </tr>\n",
              "    <tr>\n",
              "      <th>max</th>\n",
              "      <td>0.951780</td>\n",
              "      <td>0.944788</td>\n",
              "    </tr>\n",
              "  </tbody>\n",
              "</table>\n",
              "</div>"
            ],
            "text/plain": [
              "        short-term    long-term\n",
              "count  2000.000000  2000.000000\n",
              "mean      0.841895     0.748591\n",
              "std       0.038783     0.070782\n",
              "min       0.656527     0.368548\n",
              "25%       0.820358     0.712203\n",
              "50%       0.845011     0.753943\n",
              "75%       0.867141     0.793247\n",
              "max       0.951780     0.944788"
            ]
          },
          "metadata": {
            "tags": []
          },
          "execution_count": 305
        }
      ]
    },
    {
      "cell_type": "code",
      "metadata": {
        "id": "U0BD4Q9H56Ba",
        "colab_type": "code",
        "colab": {}
      },
      "source": [
        "#load the ground truth dataset\n",
        "csv_path ='./Test-set/Ground-truth_test/ground_truth_template.csv'\n",
        "GroundTruth_test = pd.read_csv(csv_path)"
      ],
      "execution_count": 0,
      "outputs": []
    },
    {
      "cell_type": "code",
      "metadata": {
        "id": "7YH71QeC_mPe",
        "colab_type": "code",
        "colab": {}
      },
      "source": [
        "GroundTruth_test ['short-term_memorability'] =  (1*pred['short-term'])\n",
        "GroundTruth_test ['long-term_memorability'] =  (1*pred['long-term'])"
      ],
      "execution_count": 0,
      "outputs": []
    },
    {
      "cell_type": "markdown",
      "metadata": {
        "id": "mFqc-6JbWXh2",
        "colab_type": "text"
      },
      "source": [
        "# **7. Predicting the Final Result**"
      ]
    },
    {
      "cell_type": "code",
      "metadata": {
        "id": "-RHfQ2jn56XR",
        "colab_type": "code",
        "outputId": "7b2d3e79-08d1-4481-c683-12243091bdd4",
        "colab": {
          "base_uri": "https://localhost:8080/",
          "height": 335
        }
      },
      "source": [
        "GroundTruth_test.head(10)"
      ],
      "execution_count": 311,
      "outputs": [
        {
          "output_type": "execute_result",
          "data": {
            "text/html": [
              "<div>\n",
              "<style scoped>\n",
              "    .dataframe tbody tr th:only-of-type {\n",
              "        vertical-align: middle;\n",
              "    }\n",
              "\n",
              "    .dataframe tbody tr th {\n",
              "        vertical-align: top;\n",
              "    }\n",
              "\n",
              "    .dataframe thead th {\n",
              "        text-align: right;\n",
              "    }\n",
              "</style>\n",
              "<table border=\"1\" class=\"dataframe\">\n",
              "  <thead>\n",
              "    <tr style=\"text-align: right;\">\n",
              "      <th></th>\n",
              "      <th>video</th>\n",
              "      <th>short-term_memorability</th>\n",
              "      <th>nb_short-term_annotations</th>\n",
              "      <th>long-term_memorability</th>\n",
              "      <th>nb_long-term_annotations</th>\n",
              "    </tr>\n",
              "  </thead>\n",
              "  <tbody>\n",
              "    <tr>\n",
              "      <th>0</th>\n",
              "      <td>7494</td>\n",
              "      <td>0.880204</td>\n",
              "      <td>33</td>\n",
              "      <td>0.749224</td>\n",
              "      <td>12</td>\n",
              "    </tr>\n",
              "    <tr>\n",
              "      <th>1</th>\n",
              "      <td>7495</td>\n",
              "      <td>0.835572</td>\n",
              "      <td>34</td>\n",
              "      <td>0.794127</td>\n",
              "      <td>10</td>\n",
              "    </tr>\n",
              "    <tr>\n",
              "      <th>2</th>\n",
              "      <td>7496</td>\n",
              "      <td>0.799627</td>\n",
              "      <td>32</td>\n",
              "      <td>0.773613</td>\n",
              "      <td>13</td>\n",
              "    </tr>\n",
              "    <tr>\n",
              "      <th>3</th>\n",
              "      <td>7497</td>\n",
              "      <td>0.900068</td>\n",
              "      <td>33</td>\n",
              "      <td>0.862292</td>\n",
              "      <td>10</td>\n",
              "    </tr>\n",
              "    <tr>\n",
              "      <th>4</th>\n",
              "      <td>7498</td>\n",
              "      <td>0.844054</td>\n",
              "      <td>33</td>\n",
              "      <td>0.723551</td>\n",
              "      <td>10</td>\n",
              "    </tr>\n",
              "    <tr>\n",
              "      <th>5</th>\n",
              "      <td>7499</td>\n",
              "      <td>0.817382</td>\n",
              "      <td>33</td>\n",
              "      <td>0.733659</td>\n",
              "      <td>13</td>\n",
              "    </tr>\n",
              "    <tr>\n",
              "      <th>6</th>\n",
              "      <td>7500</td>\n",
              "      <td>0.838796</td>\n",
              "      <td>33</td>\n",
              "      <td>0.689424</td>\n",
              "      <td>10</td>\n",
              "    </tr>\n",
              "    <tr>\n",
              "      <th>7</th>\n",
              "      <td>7502</td>\n",
              "      <td>0.849565</td>\n",
              "      <td>43</td>\n",
              "      <td>0.722907</td>\n",
              "      <td>15</td>\n",
              "    </tr>\n",
              "    <tr>\n",
              "      <th>8</th>\n",
              "      <td>7503</td>\n",
              "      <td>0.781681</td>\n",
              "      <td>33</td>\n",
              "      <td>0.789779</td>\n",
              "      <td>11</td>\n",
              "    </tr>\n",
              "    <tr>\n",
              "      <th>9</th>\n",
              "      <td>7504</td>\n",
              "      <td>0.846573</td>\n",
              "      <td>33</td>\n",
              "      <td>0.667634</td>\n",
              "      <td>15</td>\n",
              "    </tr>\n",
              "  </tbody>\n",
              "</table>\n",
              "</div>"
            ],
            "text/plain": [
              "   video  ...  nb_long-term_annotations\n",
              "0   7494  ...                        12\n",
              "1   7495  ...                        10\n",
              "2   7496  ...                        13\n",
              "3   7497  ...                        10\n",
              "4   7498  ...                        10\n",
              "5   7499  ...                        13\n",
              "6   7500  ...                        10\n",
              "7   7502  ...                        15\n",
              "8   7503  ...                        11\n",
              "9   7504  ...                        15\n",
              "\n",
              "[10 rows x 5 columns]"
            ]
          },
          "metadata": {
            "tags": []
          },
          "execution_count": 311
        }
      ]
    },
    {
      "cell_type": "code",
      "metadata": {
        "id": "q0mmLE4TAlHg",
        "colab_type": "code",
        "colab": {}
      },
      "source": [
        "resultset = GroundTruth_test"
      ],
      "execution_count": 0,
      "outputs": []
    },
    {
      "cell_type": "code",
      "metadata": {
        "id": "-AzprSHp7zxq",
        "colab_type": "code",
        "colab": {}
      },
      "source": [
        "resultset.to_csv('/content/gdrive/My Drive/Nivedita_Mahato_19210398_Result.csv',index=None)"
      ],
      "execution_count": 0,
      "outputs": []
    }
  ]
}